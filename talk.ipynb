{
 "cells": [
  {
   "cell_type": "markdown",
   "metadata": {},
   "source": [
    "```{=latex}\n",
    "\\usepackage{hyperref}\n",
    "\\usepackage{graphicx}\n",
    "\\usepackage{listings}\n",
    "\\usepackage{textcomp}\n",
    "\\usepackage{fancyvrb}\n",
    "\n",
    "\\newcommand{\\passthrough}[1]{\\lstset{mathescape=false}#1\\lstset{mathescape=true}}\n",
    "\\newcommand{\\tightlist}{}\n",
    "```"
   ]
  },
  {
   "cell_type": "markdown",
   "metadata": {},
   "source": [
    "```{=latex}\n",
    "\\title{Incident Retrospectives as Code}\n",
    "\\author{Moshe Zadka -- https://cobordism.com}\n",
    "\\date{}\n",
    "\n",
    "\\begin{document}\n",
    "\\begin{titlepage}\n",
    "\\maketitle\n",
    "\\end{titlepage}\n",
    "\n",
    "\\frame{\\titlepage}\n",
    "```"
   ]
  },
  {
   "cell_type": "markdown",
   "metadata": {
    "tags": []
   },
   "source": [
    "```{=latex}\n",
    "\\begin{frame}\n",
    "\\frametitle{Acknowledgement of Country}\n",
    "\n",
    "Belmont (in San Francisco Bay Area Peninsula)\n",
    "\n",
    "Ancestral homeland of the Ramaytush Ohlone people\n",
    "\n",
    "\\end{frame}\n",
    "```"
   ]
  },
  {
   "cell_type": "markdown",
   "metadata": {
    "tags": []
   },
   "source": [
    "I live in Belmont,\n",
    "in the San Francisco Bay Area Peninsula.\n",
    "I wish to acknowledge it as the\n",
    "ancestral homeland\n",
    "of the\n",
    "Ramaytush Ohlone people."
   ]
  },
  {
   "cell_type": "markdown",
   "metadata": {},
   "source": [
    "## Background on Retrospectives\n",
    "\n",
    "### Incident\n",
    "\n",
    "### Retrospective\n",
    "\n",
    "### Retrospective Review\n",
    "\n",
    "### Why do Retrospectives?\n",
    "\n",
    "### Why do Retrospective Reviews?\n",
    "\n",
    "## Source Control for Retrospectives\n",
    "\n",
    "### Why not wiki?\n",
    "\n",
    "### Why not shared docs?\n",
    "\n",
    "### Format\n",
    "\n",
    "### Template\n",
    "\n",
    "### Organization\n",
    "\n",
    "## Collaboration for Retrospectives\n",
    "\n",
    "### Draft Patch\n",
    "\n",
    "### Draft Patch Feedback\n",
    "\n",
    "### Adding Commits\n",
    "\n",
    "### Getting Approval\n",
    "\n",
    "### Merging\n",
    "\n",
    "## Continuous Integration for Retrospectives\n",
    "\n",
    "### Wait, What?\n",
    "\n",
    "### Linting\n",
    "\n",
    "### Rendering\n",
    "\n",
    "### Example Lint\n",
    "\n",
    "### Example Lint Failure\n",
    "\n",
    "## Analyzing Retrospectives Data\n",
    "\n",
    "### Retrospective Process\n",
    "\n",
    "### Iterating on Retrospective Process\n",
    "\n",
    "### Example: Words in Recommendations\n",
    "\n",
    "### Example: Recommendations Done\n",
    "\n",
    "### Share Analysis\n",
    "\n",
    "## Getting Started\n",
    "\n",
    "### Light Markup Language\n",
    "\n",
    "### Template\n",
    "\n",
    "### Organization\n",
    "\n",
    "### Repo\n",
    "\n",
    "### Start Today!\n",
    "\n"
   ]
  },
  {
   "cell_type": "markdown",
   "metadata": {},
   "source": [
    "```{=latex}\n",
    "\\end{document}\n",
    "```"
   ]
  }
 ],
 "metadata": {
  "kernelspec": {
   "display_name": "Python 3 (ipykernel)",
   "language": "python",
   "name": "python3"
  },
  "language_info": {
   "codemirror_mode": {
    "name": "ipython",
    "version": 3
   },
   "file_extension": ".py",
   "mimetype": "text/x-python",
   "name": "python",
   "nbconvert_exporter": "python",
   "pygments_lexer": "ipython3",
   "version": "3.10.7"
  },
  "toc-autonumbering": false
 },
 "nbformat": 4,
 "nbformat_minor": 4
}
