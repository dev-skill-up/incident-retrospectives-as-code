{
 "cells": [
  {
   "cell_type": "markdown",
   "metadata": {},
   "source": [
    "```{=latex}\n",
    "\\usepackage{hyperref}\n",
    "\\usepackage{graphicx}\n",
    "\\usepackage{listings}\n",
    "\\usepackage{textcomp}\n",
    "\\usepackage{fancyvrb}\n",
    "\n",
    "\\newcommand{\\passthrough}[1]{\\lstset{mathescape=false}#1\\lstset{mathescape=true}}\n",
    "\\newcommand{\\tightlist}{}\n",
    "```"
   ]
  },
  {
   "cell_type": "markdown",
   "metadata": {},
   "source": [
    "```{=latex}\n",
    "\\title{Incident Retrospectives as Code}\n",
    "\\author{Moshe Zadka -- https://cobordism.com}\n",
    "\\date{}\n",
    "\n",
    "\\begin{document}\n",
    "\\begin{titlepage}\n",
    "\\maketitle\n",
    "\\end{titlepage}\n",
    "\n",
    "\\frame{\\titlepage}\n",
    "```"
   ]
  },
  {
   "cell_type": "markdown",
   "metadata": {
    "tags": []
   },
   "source": [
    "```{=latex}\n",
    "\\begin{frame}\n",
    "\\frametitle{Acknowledgement of Country}\n",
    "\n",
    "Belmont (in San Francisco Bay Area Peninsula)\n",
    "\n",
    "Ancestral homeland of the Ramaytush Ohlone people\n",
    "\n",
    "\\end{frame}\n",
    "```"
   ]
  },
  {
   "cell_type": "markdown",
   "metadata": {
    "tags": []
   },
   "source": [
    "I live in Belmont,\n",
    "in the San Francisco Bay Area Peninsula.\n",
    "I wish to acknowledge it as the\n",
    "ancestral homeland\n",
    "of the\n",
    "Ramaytush Ohlone people."
   ]
  },
  {
   "cell_type": "markdown",
   "metadata": {},
   "source": [
    "## Background on Retrospectives"
   ]
  },
  {
   "cell_type": "markdown",
   "metadata": {
    "tags": []
   },
   "source": [
    "```{=latex}\n",
    "\\begin{frame}\n",
    "\\frametitle{Incidents: An Introduction}\n",
    "\n",
    "Align on terms\n",
    "\n",
    "\\end{frame}\n",
    "```"
   ]
  },
  {
   "cell_type": "markdown",
   "metadata": {},
   "source": [
    "### Incident"
   ]
  },
  {
   "cell_type": "markdown",
   "metadata": {
    "tags": []
   },
   "source": [
    "```{=latex}\n",
    "\\begin{frame}\n",
    "\\frametitle{Incident}\n",
    "\n",
    "\\pause\n",
    "Something bad...\n",
    "\\pause\n",
    "\n",
    "...we didn't want...\n",
    "\n",
    "\\pause\n",
    "...and we would like to prevent.\n",
    "\n",
    "\\end{frame}\n",
    "```"
   ]
  },
  {
   "cell_type": "markdown",
   "metadata": {},
   "source": [
    "### Retrospective"
   ]
  },
  {
   "cell_type": "markdown",
   "metadata": {
    "tags": []
   },
   "source": [
    "```{=latex}\n",
    "\\begin{frame}\n",
    "\\frametitle{Retrospective}\n",
    "\n",
    "(AKA\n",
    "\"post-mortem\")\n",
    "\n",
    "\\pause\n",
    "Analysis...\n",
    "\n",
    "\\pause\n",
    "...and an improvement plan.\n",
    "\n",
    "\\end{frame}\n",
    "```"
   ]
  },
  {
   "cell_type": "markdown",
   "metadata": {},
   "source": [
    "### Retrospective Review"
   ]
  },
  {
   "cell_type": "markdown",
   "metadata": {
    "tags": []
   },
   "source": [
    "```{=latex}\n",
    "\\begin{frame}\n",
    "\\frametitle{Retrospective Review}\n",
    "\n",
    "\\pause\n",
    "Part of\n",
    "\"signing off\"\n",
    "on a retrospective\n",
    "\n",
    "\\pause\n",
    "Feedback\n",
    "\n",
    "\\pause\n",
    "Feedback addressed\n",
    "\n",
    "\\pause\n",
    "Sync/Async\n",
    "\n",
    "\\end{frame}\n",
    "```"
   ]
  },
  {
   "cell_type": "markdown",
   "metadata": {},
   "source": [
    "### Why do Retrospectives?"
   ]
  },
  {
   "cell_type": "markdown",
   "metadata": {
    "tags": []
   },
   "source": [
    "```{=latex}\n",
    "\\begin{frame}\n",
    "\\frametitle{Why Retrospectives?}\n",
    "\n",
    "\\pause\n",
    "\"Make new mistakes\"...\n",
    "\n",
    "\\pause\n",
    "...for sufficiently large values of \"new\".\n",
    "\n",
    "\\end{frame}\n",
    "```"
   ]
  },
  {
   "cell_type": "markdown",
   "metadata": {},
   "source": [
    "### Why do Retrospective Reviews?"
   ]
  },
  {
   "cell_type": "markdown",
   "metadata": {
    "tags": []
   },
   "source": [
    "```{=latex}\n",
    "\\begin{frame}\n",
    "\\frametitle{Why Retrospective Reviews?}\n",
    "\n",
    "\\pause\n",
    "Verify analysis...\n",
    "\n",
    "\\pause\n",
    "...verify recommendations...\n",
    "\n",
    "\\pause\n",
    "...teach.\n",
    "\n",
    "\\end{frame}\n",
    "```"
   ]
  },
  {
   "cell_type": "markdown",
   "metadata": {},
   "source": [
    "## Source Control for Retrospectives"
   ]
  },
  {
   "cell_type": "markdown",
   "metadata": {
    "tags": []
   },
   "source": [
    "```{=latex}\n",
    "\\begin{frame}\n",
    "\\frametitle{Source Control for Retrospectives}\n",
    "\n",
    "\\pause\n",
    "Step 0 of\n",
    "\"as code\"\n",
    "\n",
    "\\end{frame}\n",
    "```"
   ]
  },
  {
   "cell_type": "markdown",
   "metadata": {},
   "source": [
    "### Why not wiki?"
   ]
  },
  {
   "cell_type": "markdown",
   "metadata": {
    "tags": []
   },
   "source": [
    "```{=latex}\n",
    "\\begin{frame}\n",
    "\\frametitle{Why not Wiki?}\n",
    "\n",
    "\\pause\n",
    "Edit with usual editor!\n",
    "\n",
    "\\pause\n",
    "Local backup\n",
    "\n",
    "\\end{frame}\n",
    "```"
   ]
  },
  {
   "cell_type": "markdown",
   "metadata": {},
   "source": [
    "### Why not shared docs?"
   ]
  },
  {
   "cell_type": "markdown",
   "metadata": {
    "tags": []
   },
   "source": [
    "```{=latex}\n",
    "\\begin{frame}\n",
    "\\frametitle{Why not Shared Docs?}\n",
    "\n",
    "\\pause\n",
    "E.g., GDoc, Dropbox Paper, MS Share...\n",
    "\n",
    "\\pause\n",
    "Non-proprietary format\n",
    "\n",
    "\\pause\n",
    "Common tooling\n",
    "\n",
    "\\end{frame}\n",
    "```"
   ]
  },
  {
   "cell_type": "markdown",
   "metadata": {},
   "source": [
    "### Format"
   ]
  },
  {
   "cell_type": "markdown",
   "metadata": {
    "tags": []
   },
   "source": [
    "```{=latex}\n",
    "\\begin{frame}\n",
    "\\frametitle{Format}\n",
    "\n",
    "\\pause\n",
    "Your favorite\n",
    "\"lightweight markup\"\n",
    "language\n",
    "\n",
    "\\pause\n",
    "Default: Markdown\n",
    "\n",
    "\\pause\n",
    "Other alternatives: ReStructured Text, Asciidoc\n",
    "\n",
    "\\pause\n",
    "Choose and commit\n",
    "\n",
    "\\end{frame}\n",
    "```"
   ]
  },
  {
   "cell_type": "markdown",
   "metadata": {},
   "source": [
    "### Template"
   ]
  },
  {
   "cell_type": "markdown",
   "metadata": {
    "tags": []
   },
   "source": [
    "```{=latex}\n",
    "\\begin{frame}\n",
    "\\frametitle{Template}\n",
    "\n",
    "\\pause\n",
    "Common ToC\n",
    "\n",
    "\\pause\n",
    "Clarify what belongs\n",
    "\n",
    "\\pause\n",
    "Note any guidelines\n",
    "\n",
    "\\pause\n",
    "Note mandatory/optional\n",
    "\n",
    "\\pause\n",
    "NOT a replacement for process docs\n",
    "\n",
    "\\end{frame}\n",
    "```"
   ]
  },
  {
   "cell_type": "markdown",
   "metadata": {},
   "source": [
    "### Organization"
   ]
  },
  {
   "cell_type": "markdown",
   "metadata": {
    "tags": []
   },
   "source": [
    "```{=latex}\n",
    "\\begin{frame}\n",
    "\\frametitle{Organization}\n",
    "\n",
    "\\pause\n",
    "Directory structure\n",
    "(flat/hierarchical)\n",
    "\n",
    "\\pause\n",
    "Directory structure\n",
    "(images)\n",
    "\n",
    "\\pause\n",
    "Naming\n",
    "\n",
    "\\end{frame}\n",
    "```"
   ]
  },
  {
   "cell_type": "markdown",
   "metadata": {},
   "source": [
    "## Collaboration for Retrospectives"
   ]
  },
  {
   "cell_type": "markdown",
   "metadata": {
    "tags": []
   },
   "source": [
    "```{=latex}\n",
    "\\begin{frame}\n",
    "\\frametitle{Collaboration for Retrospectives}\n",
    "\n",
    "\\pause\n",
    "Step 1 of\n",
    "\"as code\"\n",
    "\n",
    "\\pause\n",
    "...because you don't push straight to main\n",
    "in your other repositories\n",
    "\n",
    "\\end{frame}\n",
    "```"
   ]
  },
  {
   "cell_type": "markdown",
   "metadata": {},
   "source": [
    "### Draft Patch"
   ]
  },
  {
   "cell_type": "markdown",
   "metadata": {
    "tags": []
   },
   "source": [
    "```{=latex}\n",
    "\\begin{frame}\n",
    "\\frametitle{Draft Patch}\n",
    "\n",
    "AKA\n",
    "\"Pull Request\"\n",
    "\\pause\n",
    "\n",
    "AKA\n",
    "\"Merge Request\"\n",
    "\\pause\n",
    "\n",
    "AKA\n",
    "\"Review Request\"\n",
    "\n",
    "\\end{frame}\n",
    "```"
   ]
  },
  {
   "cell_type": "markdown",
   "metadata": {
    "tags": []
   },
   "source": [
    "```{=latex}\n",
    "\\begin{frame}\n",
    "\\frametitle{Draft Patch}\n",
    "\n",
    "\"Asking for feedback\"\n",
    "\n",
    "\\end{frame}\n",
    "```"
   ]
  },
  {
   "cell_type": "markdown",
   "metadata": {},
   "source": [
    "### Draft Patch Feedback"
   ]
  },
  {
   "cell_type": "markdown",
   "metadata": {
    "tags": []
   },
   "source": [
    "```{=latex}\n",
    "\\begin{frame}\n",
    "\\frametitle{Draft Patch Feedback}\n",
    "\n",
    "\\pause\n",
    "Line-by-line comments\n",
    "\n",
    "\\pause\n",
    "Overall comments\n",
    "\n",
    "\\pause\n",
    "Ask for changes\n",
    "\n",
    "\\end{frame}\n",
    "```"
   ]
  },
  {
   "cell_type": "markdown",
   "metadata": {},
   "source": [
    "### Adding Commits"
   ]
  },
  {
   "cell_type": "markdown",
   "metadata": {
    "tags": []
   },
   "source": [
    "```{=latex}\n",
    "\\begin{frame}\n",
    "\\frametitle{Addressing Draft Patch Feedback}\n",
    "\n",
    "\\pause\n",
    "Push new commits\n",
    "\n",
    "\\pause\n",
    "Reply to comments\n",
    "\n",
    "\\end{frame}\n",
    "```"
   ]
  },
  {
   "cell_type": "markdown",
   "metadata": {},
   "source": [
    "### Getting Approval"
   ]
  },
  {
   "cell_type": "markdown",
   "metadata": {
    "tags": []
   },
   "source": [
    "```{=latex}\n",
    "\\begin{frame}\n",
    "\\frametitle{Getting Approval}\n",
    "\n",
    "\\pause\n",
    "Who approves?\n",
    "\n",
    "\\pause\n",
    "\"Discussion has resolved on everything\"\n",
    "\n",
    "\\end{frame}\n",
    "```"
   ]
  },
  {
   "cell_type": "markdown",
   "metadata": {},
   "source": [
    "### Merging"
   ]
  },
  {
   "cell_type": "markdown",
   "metadata": {
    "tags": []
   },
   "source": [
    "```{=latex}\n",
    "\\begin{frame}\n",
    "\\frametitle{Merging}\n",
    "\n",
    "\\pause\n",
    "Merge patch\n",
    "\n",
    "\\pause\n",
    "Close ticket\n",
    "\n",
    "\\end{frame}\n",
    "```"
   ]
  },
  {
   "cell_type": "markdown",
   "metadata": {},
   "source": [
    "## Continuous Integration for Retrospectives\n",
    "\n",
    "### Wait, What?\n",
    "\n",
    "### Linting\n",
    "\n",
    "### Rendering\n",
    "\n",
    "### Example Lint\n",
    "\n",
    "### Example Lint Failure\n",
    "\n",
    "## Analyzing Retrospectives Data\n",
    "\n",
    "### Retrospective Process\n",
    "\n",
    "### Iterating on Retrospective Process\n",
    "\n",
    "### Example: Words in Recommendations\n",
    "\n",
    "### Example: Recommendations Done\n",
    "\n",
    "### Share Analysis\n",
    "\n",
    "## Getting Started\n",
    "\n",
    "### Light Markup Language\n",
    "\n",
    "### Template\n",
    "\n",
    "### Organization\n",
    "\n",
    "### Repo\n",
    "\n",
    "### Start Today!"
   ]
  },
  {
   "cell_type": "markdown",
   "metadata": {},
   "source": [
    "```{=latex}\n",
    "\\end{document}\n",
    "```"
   ]
  }
 ],
 "metadata": {
  "kernelspec": {
   "display_name": "Python 3 (ipykernel)",
   "language": "python",
   "name": "python3"
  },
  "language_info": {
   "codemirror_mode": {
    "name": "ipython",
    "version": 3
   },
   "file_extension": ".py",
   "mimetype": "text/x-python",
   "name": "python",
   "nbconvert_exporter": "python",
   "pygments_lexer": "ipython3",
   "version": "3.10.7"
  },
  "toc-autonumbering": false
 },
 "nbformat": 4,
 "nbformat_minor": 4
}
