{
 "cells": [
  {
   "cell_type": "markdown",
   "metadata": {},
   "source": [
    "```{=latex}\n",
    "\\usepackage{hyperref}\n",
    "\\usepackage{graphicx}\n",
    "\\usepackage{listings}\n",
    "\\usepackage{textcomp}\n",
    "\\usepackage{fancyvrb}\n",
    "\n",
    "\\newcommand{\\passthrough}[1]{\\lstset{mathescape=false}#1\\lstset{mathescape=true}}\n",
    "\\newcommand{\\tightlist}{}\n",
    "```"
   ]
  },
  {
   "cell_type": "markdown",
   "metadata": {},
   "source": [
    "```{=latex}\n",
    "\\title{Incident Retrospectives as Code}\n",
    "\\author{Moshe Zadka -- https://cobordism.com}\n",
    "\\date{}\n",
    "\n",
    "\\begin{document}\n",
    "\\begin{titlepage}\n",
    "\\maketitle\n",
    "\\end{titlepage}\n",
    "\n",
    "\\frame{\\titlepage}\n",
    "```"
   ]
  },
  {
   "cell_type": "markdown",
   "metadata": {
    "tags": []
   },
   "source": [
    "```{=latex}\n",
    "\\begin{frame}\n",
    "\\frametitle{Acknowledgement of Country}\n",
    "\n",
    "Belmont (in San Francisco Bay Area Peninsula)\n",
    "\n",
    "Ancestral homeland of the Ramaytush Ohlone people\n",
    "\n",
    "\\end{frame}\n",
    "```"
   ]
  },
  {
   "cell_type": "markdown",
   "metadata": {
    "tags": []
   },
   "source": [
    "I live in Belmont,\n",
    "in the San Francisco Bay Area Peninsula.\n",
    "I wish to acknowledge it as the\n",
    "ancestral homeland\n",
    "of the\n",
    "Ramaytush Ohlone people."
   ]
  },
  {
   "cell_type": "markdown",
   "metadata": {},
   "source": [
    "## Background on Retrospectives"
   ]
  },
  {
   "cell_type": "markdown",
   "metadata": {
    "tags": []
   },
   "source": [
    "```{=latex}\n",
    "\\begin{frame}\n",
    "\\frametitle{Incidents: An Introduction}\n",
    "\n",
    "Align on terms\n",
    "\n",
    "\\end{frame}\n",
    "```\n",
    "\n",
    "Let's make sure we are all talking about the same things.\n",
    "Here are the terms I will be using,\n",
    "and my definitions for them.\n",
    "\n",
    "The industry is young enough that you might be using\n",
    "different terms\n",
    "and\n",
    "different definitions.\n",
    "This is fine!\n",
    "But I want to make sure we are all on the same page."
   ]
  },
  {
   "cell_type": "markdown",
   "metadata": {},
   "source": [
    "### Incident"
   ]
  },
  {
   "cell_type": "markdown",
   "metadata": {
    "tags": []
   },
   "source": [
    "```{=latex}\n",
    "\\begin{frame}\n",
    "\\frametitle{Incident}\n",
    "\n",
    "\\pause\n",
    "Something bad...\n",
    "\n",
    "\\pause\n",
    "...we didn't want...\n",
    "\n",
    "\\pause\n",
    "...and we would like to prevent.\n",
    "\n",
    "\\end{frame}\n",
    "```\n",
    "\n",
    "An incident has to have three things:\n",
    "\n",
    "* It has to be bad: someone was harmed.\n",
    "* It has to be *unplanned*:\n",
    "  we did not plan to do this harm.\n",
    "  This is not trivial.\n",
    "  Sometimes trade-offs must be made,\n",
    "  and someone needs to be harmed.\n",
    "  But that is\n",
    "  *not*\n",
    "  an incident.\n",
    "* It has to be something that we are willing to work to prevent.\n",
    "  We have to\n",
    "  *care*\n",
    "  about the harm.\n",
    "  We might care about it because remediating is annoying.\n",
    "  We might care about it because it led to lost revenue.\n",
    "  But if we don't care,\n",
    "  it's not an incident."
   ]
  },
  {
   "cell_type": "markdown",
   "metadata": {},
   "source": [
    "### Retrospective"
   ]
  },
  {
   "cell_type": "markdown",
   "metadata": {
    "tags": []
   },
   "source": [
    "```{=latex}\n",
    "\\begin{frame}\n",
    "\\frametitle{Retrospective}\n",
    "\n",
    "(AKA\n",
    "\"post-mortem\")\n",
    "\n",
    "\\pause\n",
    "Analysis...\n",
    "\n",
    "\\pause\n",
    "...and an improvement plan.\n",
    "\n",
    "\\end{frame}\n",
    "```\n",
    "\n",
    "A retrospective is sometimes called\n",
    "\"post-mortem\".\n",
    "Since nobody actually died\n",
    "(I hope!)\n",
    "and since talking about death can be triggering to some people,\n",
    "I prefer the more neutral term\n",
    "\"retrospective\".\n",
    "\n",
    "An\n",
    "*incident*\n",
    "is something bad we want to prevent from recurring.\n",
    "The retrospective assumes both parts:\n",
    "\n",
    "* It analyses the chain of event that led to the harm.\n",
    "* It offers concrete recommendations to avoid it in the future."
   ]
  },
  {
   "cell_type": "markdown",
   "metadata": {},
   "source": [
    "### Retrospective Review"
   ]
  },
  {
   "cell_type": "markdown",
   "metadata": {
    "tags": []
   },
   "source": [
    "```{=latex}\n",
    "\\begin{frame}\n",
    "\\frametitle{Retrospective Review}\n",
    "\n",
    "\\pause\n",
    "Part of\n",
    "\"signing off\"\n",
    "on a retrospective\n",
    "\n",
    "\\pause\n",
    "Feedback\n",
    "\n",
    "\\pause\n",
    "Feedback addressed\n",
    "\n",
    "\\pause\n",
    "Sync/Async\n",
    "\n",
    "\\end{frame}\n",
    "```\n",
    "\n",
    "Both the analysis and recommendation parts of a retrospective\n",
    "can be nuanced.\n",
    "Unwarranted assumptions might have been made,\n",
    "or relevant information missed.\n",
    "\n",
    "A retrospective\n",
    "*review*\n",
    "is the part,\n",
    "or parts,\n",
    "where the team offers feedback on the retrospective.\n",
    "\n",
    "The feedback might be synchronous,\n",
    "in a meeting,\n",
    "or asynchronous,\n",
    "as written comments.\n",
    "It is often a combination of both.\n",
    "\n",
    "The feedback is addressed,\n",
    "partially,\n",
    "by modifying the retrospective.\n",
    "At some point,\n",
    "usually,\n",
    "retrospectives are\n",
    "\"signed off\":\n",
    "the team reaches a consensus about the retrospective being\n",
    "\"good enough\"."
   ]
  },
  {
   "cell_type": "markdown",
   "metadata": {},
   "source": [
    "### Why do Retrospectives?"
   ]
  },
  {
   "cell_type": "markdown",
   "metadata": {
    "tags": []
   },
   "source": [
    "```{=latex}\n",
    "\\begin{frame}\n",
    "\\frametitle{Why Retrospectives?}\n",
    "\n",
    "\\pause\n",
    "\"Make new mistakes\"...\n",
    "\n",
    "\\pause\n",
    "...for sufficiently large values of \"new\".\n",
    "\n",
    "\\end{frame}\n",
    "```\n",
    "\n",
    "Retrospectives are a lot of work.\n",
    "Why spend all the time and effort?\n",
    "\n",
    "The goal of a retrospective is to make sure any existing issues\n",
    "are dealt with.\n",
    "The definition of\n",
    "\"existing\"\n",
    "is designed to be far reaching.\n",
    "\n",
    "The goal of a\n",
    "*good*\n",
    "retrospective is to find all the issues that led to the incident.\n",
    "The more we identify and deal with,\n",
    "the better we can mitigate and avoid future incidents."
   ]
  },
  {
   "cell_type": "markdown",
   "metadata": {},
   "source": [
    "### Why do Retrospective Reviews?"
   ]
  },
  {
   "cell_type": "markdown",
   "metadata": {
    "tags": []
   },
   "source": [
    "```{=latex}\n",
    "\\begin{frame}\n",
    "\\frametitle{Why Retrospective Reviews?}\n",
    "\n",
    "\\pause\n",
    "Verify analysis...\n",
    "\n",
    "\\pause\n",
    "...verify recommendations...\n",
    "\n",
    "\\pause\n",
    "...teach.\n",
    "\n",
    "\\end{frame}\n",
    "```\n",
    "\n",
    "Properly analyzing incidents is complicated.\n",
    "There are many things that are easy to miss\n",
    "and many ways to misidentify issues.\n",
    "\n",
    "Getting feedback from the team allows making the\n",
    "retrospectives more valuable.\n",
    "It also serves as a good opportunity to share knowledge."
   ]
  },
  {
   "cell_type": "markdown",
   "metadata": {},
   "source": [
    "## Source Control for Retrospectives"
   ]
  },
  {
   "cell_type": "markdown",
   "metadata": {
    "tags": []
   },
   "source": [
    "```{=latex}\n",
    "\\begin{frame}\n",
    "\\frametitle{Source Control for Retrospectives}\n",
    "\n",
    "\\pause\n",
    "Step 0 of\n",
    "\"as code\"\n",
    "\n",
    "\\end{frame}\n",
    "```\n",
    "\n",
    "Code is kept in source control\n",
    "in every reasonably mature team.\n",
    "The minimum for treating retrospectives\n",
    "\"as code\"\n",
    "is to do the same.\n",
    "\n"
   ]
  },
  {
   "cell_type": "markdown",
   "metadata": {},
   "source": [
    "### Why not wiki?"
   ]
  },
  {
   "cell_type": "markdown",
   "metadata": {
    "tags": []
   },
   "source": [
    "```{=latex}\n",
    "\\begin{frame}\n",
    "\\frametitle{Why not Wiki?}\n",
    "\n",
    "\\pause\n",
    "Edit with usual editor!\n",
    "\n",
    "\\pause\n",
    "Local backup\n",
    "\n",
    "\\end{frame}\n",
    "```\n",
    "\n",
    "There are alternatives.\n",
    "Some teams keep the retrospectives in a wiki.\n",
    "\n",
    "Wikis aren't bad!\n",
    "But there are advantages to\n",
    "*not*\n",
    "editing via the web.\n",
    "\n",
    "A modern editor is an engineer's friend.\n",
    "They spend most day in it --\n",
    "be it VSCode, Sublime, neovim, or anything else.\n",
    "\n",
    "Keeping retrospectives in source control,\n",
    "as text files,\n",
    "allows taking advantage of that.\n",
    "Each team member can use their favorite editor,\n",
    "and the files are kept locally\n",
    "even if the editor crashes."
   ]
  },
  {
   "cell_type": "markdown",
   "metadata": {},
   "source": [
    "### Why not shared docs?"
   ]
  },
  {
   "cell_type": "markdown",
   "metadata": {
    "tags": []
   },
   "source": [
    "```{=latex}\n",
    "\\begin{frame}\n",
    "\\frametitle{Why not Shared Docs?}\n",
    "\n",
    "\\pause\n",
    "E.g., GDoc, Dropbox Paper, MS Sharepoint...\n",
    "\n",
    "\\pause\n",
    "Non-proprietary format\n",
    "\n",
    "\\pause\n",
    "Common tooling\n",
    "\n",
    "\\end{frame}\n",
    "```\n",
    "\n",
    "There are many shared doc platforms.\n",
    "Google Docs, Dropbox Paper, MS Sharepoint are all popular.\n",
    "\n",
    "They are all good for a lot of use cases!\n",
    "They are not,\n",
    "however,\n",
    "optimized for retrospectives.\n",
    "\n",
    "In some of them,\n",
    "even embedding a code-like environment is complicated.\n",
    "For a thing where mentioning specific Kubernetes\n",
    "`Deployments`\n",
    "a DNS name,\n",
    "or a specific\n",
    "UNIX\n",
    "command\n",
    "is common,\n",
    "this can be useful.\n"
   ]
  },
  {
   "cell_type": "markdown",
   "metadata": {},
   "source": [
    "### Format"
   ]
  },
  {
   "cell_type": "markdown",
   "metadata": {
    "tags": []
   },
   "source": [
    "```{=latex}\n",
    "\\begin{frame}\n",
    "\\frametitle{Format}\n",
    "\n",
    "\\pause\n",
    "Your favorite\n",
    "\"lightweight markup\"\n",
    "language\n",
    "\n",
    "\\pause\n",
    "Default: Markdown\n",
    "\n",
    "\\pause\n",
    "Other alternatives: ReStructured Text, Asciidoc\n",
    "\n",
    "\\pause\n",
    "Choose and commit\n",
    "\n",
    "\\end{frame}\n",
    "```\n",
    "\n",
    "We do need some sort of markup for the retrospectives.\n",
    "Luckily,\n",
    "there are a plethora of formats that are designed\n",
    "for relatively light-weight markup.\n",
    "\n",
    "Markdown is a good default\n",
    "being supported in quite a few platforms.\n",
    "There are sometimes reasons to use other formats,\n",
    "like ReStructuredText or ASCIIdoc.\n",
    "\n"
   ]
  },
  {
   "cell_type": "markdown",
   "metadata": {},
   "source": [
    "### Template"
   ]
  },
  {
   "cell_type": "markdown",
   "metadata": {
    "tags": []
   },
   "source": [
    "```{=latex}\n",
    "\\begin{frame}\n",
    "\\frametitle{Template}\n",
    "\n",
    "\\pause\n",
    "Common ToC\n",
    "\n",
    "\\pause\n",
    "Clarify what belongs\n",
    "\n",
    "\\pause\n",
    "Note any guidelines\n",
    "\n",
    "\\pause\n",
    "Note mandatory/optional\n",
    "\n",
    "\\pause\n",
    "NOT a replacement for process docs\n",
    "\n",
    "\\end{frame}\n",
    "```\n",
    "\n",
    "Templates are useful regardless of format.\n",
    "They are even more essential for retrospectives as code,\n",
    "where a template serves as a reminder for the expected formatting.\n",
    "\n",
    "Being text,\n",
    "sometimes there's more we can do.\n",
    "For example,\n",
    "writing a script to pre-populate some fields\n",
    "or help out sketch the timeline."
   ]
  },
  {
   "cell_type": "markdown",
   "metadata": {},
   "source": [
    "### Organization"
   ]
  },
  {
   "cell_type": "markdown",
   "metadata": {
    "tags": []
   },
   "source": [
    "```{=latex}\n",
    "\\begin{frame}\n",
    "\\frametitle{Organization}\n",
    "\n",
    "\\pause\n",
    "Directory structure\n",
    "(flat/hierarchical)\n",
    "\n",
    "\\pause\n",
    "Directory structure\n",
    "(images)\n",
    "\n",
    "\\pause\n",
    "Naming\n",
    "\n",
    "\\end{frame}\n",
    "```\n",
    "\n",
    "Beyond a single retrospectives,\n",
    "keeping them in a code repository\n",
    "means deciding on a structure.\n",
    "How will files be named?\n",
    "Where will they be kept?\n",
    "\n",
    "Do we want one directory for the assets?\n",
    "Or assets directory per retrospective?"
   ]
  },
  {
   "cell_type": "markdown",
   "metadata": {},
   "source": [
    "## Collaboration for Retrospectives"
   ]
  },
  {
   "cell_type": "markdown",
   "metadata": {
    "tags": []
   },
   "source": [
    "```{=latex}\n",
    "\\begin{frame}\n",
    "\\frametitle{Collaboration for Retrospectives}\n",
    "\n",
    "\\pause\n",
    "Step 1 of\n",
    "\"as code\"\n",
    "\n",
    "\\pause\n",
    "...because you don't push straight to main\n",
    "in your other repositories\n",
    "\n",
    "\\end{frame}\n",
    "```"
   ]
  },
  {
   "cell_type": "markdown",
   "metadata": {},
   "source": [
    "### Draft Patch"
   ]
  },
  {
   "cell_type": "markdown",
   "metadata": {
    "tags": []
   },
   "source": [
    "```{=latex}\n",
    "\\begin{frame}\n",
    "\\frametitle{Draft Patch}\n",
    "\n",
    "AKA\n",
    "\"Pull Request\"\n",
    "\\pause\n",
    "\n",
    "AKA\n",
    "\"Merge Request\"\n",
    "\\pause\n",
    "\n",
    "AKA\n",
    "\"Review Request\"\n",
    "\n",
    "\\end{frame}\n",
    "```"
   ]
  },
  {
   "cell_type": "markdown",
   "metadata": {
    "tags": []
   },
   "source": [
    "```{=latex}\n",
    "\\begin{frame}\n",
    "\\frametitle{Draft Patch}\n",
    "\n",
    "\"Asking for feedback\"\n",
    "\n",
    "\\end{frame}\n",
    "```"
   ]
  },
  {
   "cell_type": "markdown",
   "metadata": {},
   "source": [
    "### Draft Patch Feedback"
   ]
  },
  {
   "cell_type": "markdown",
   "metadata": {
    "tags": []
   },
   "source": [
    "```{=latex}\n",
    "\\begin{frame}\n",
    "\\frametitle{Draft Patch Feedback}\n",
    "\n",
    "\\pause\n",
    "Line-by-line comments\n",
    "\n",
    "\\pause\n",
    "Overall comments\n",
    "\n",
    "\\pause\n",
    "Ask for changes\n",
    "\n",
    "\\end{frame}\n",
    "```"
   ]
  },
  {
   "cell_type": "markdown",
   "metadata": {},
   "source": [
    "### Adding Commits"
   ]
  },
  {
   "cell_type": "markdown",
   "metadata": {
    "tags": []
   },
   "source": [
    "```{=latex}\n",
    "\\begin{frame}\n",
    "\\frametitle{Addressing Draft Patch Feedback}\n",
    "\n",
    "\\pause\n",
    "Push new commits\n",
    "\n",
    "\\pause\n",
    "Reply to comments\n",
    "\n",
    "\\end{frame}\n",
    "```"
   ]
  },
  {
   "cell_type": "markdown",
   "metadata": {},
   "source": [
    "### Getting Approval"
   ]
  },
  {
   "cell_type": "markdown",
   "metadata": {
    "tags": []
   },
   "source": [
    "```{=latex}\n",
    "\\begin{frame}\n",
    "\\frametitle{Getting Approval}\n",
    "\n",
    "\\pause\n",
    "Who approves?\n",
    "\n",
    "\\pause\n",
    "\"Discussion has resolved on everything\"\n",
    "\n",
    "\\end{frame}\n",
    "```"
   ]
  },
  {
   "cell_type": "markdown",
   "metadata": {},
   "source": [
    "### Merging"
   ]
  },
  {
   "cell_type": "markdown",
   "metadata": {
    "tags": []
   },
   "source": [
    "```{=latex}\n",
    "\\begin{frame}\n",
    "\\frametitle{Merging}\n",
    "\n",
    "\\pause\n",
    "Merge patch\n",
    "\n",
    "\\pause\n",
    "Close ticket\n",
    "\n",
    "\\end{frame}\n",
    "```"
   ]
  },
  {
   "cell_type": "markdown",
   "metadata": {},
   "source": [
    "## Continuous Integration for Retrospectives"
   ]
  },
  {
   "cell_type": "markdown",
   "metadata": {
    "tags": []
   },
   "source": [
    "```{=latex}\n",
    "\\begin{frame}\n",
    "\\frametitle{Continuous Integration for Retrospectives}\n",
    "\n",
    "\\pause\n",
    "...just like for your other code repositories, right?\n",
    "\n",
    "\\end{frame}\n",
    "```"
   ]
  },
  {
   "cell_type": "markdown",
   "metadata": {},
   "source": [
    "### Wait, What?"
   ]
  },
  {
   "cell_type": "markdown",
   "metadata": {
    "tags": []
   },
   "source": [
    "```{=latex}\n",
    "\\begin{frame}\n",
    "\\frametitle{CI for Retrospectives: Wait What?}\n",
    "\n",
    "\\pause\n",
    "Never send a human to do a machine's job\n",
    "\n",
    "\\end{frame}\n",
    "```"
   ]
  },
  {
   "cell_type": "markdown",
   "metadata": {},
   "source": [
    "### Linting"
   ]
  },
  {
   "cell_type": "markdown",
   "metadata": {
    "tags": []
   },
   "source": [
    "```{=latex}\n",
    "\\begin{frame}\n",
    "\\frametitle{CI for Retrospectives: Lint}\n",
    "\n",
    "\\pause\n",
    "Automatic checking of guidelines\n",
    "\n",
    "\\end{frame}\n",
    "```"
   ]
  },
  {
   "cell_type": "markdown",
   "metadata": {},
   "source": [
    "### Rendering"
   ]
  },
  {
   "cell_type": "markdown",
   "metadata": {
    "tags": []
   },
   "source": [
    "```{=latex}\n",
    "\\begin{frame}\n",
    "\\frametitle{CI for Retrospectives: Rendering}\n",
    "\n",
    "\\pause\n",
    "Easier to read\n",
    "\n",
    "\\pause\n",
    "Easier to search\n",
    "\n",
    "\\end{frame}\n",
    "```"
   ]
  },
  {
   "cell_type": "markdown",
   "metadata": {},
   "source": [
    "### Example Lint"
   ]
  },
  {
   "cell_type": "code",
   "execution_count": 105,
   "metadata": {
    "tags": [
     "no_markdown"
    ]
   },
   "outputs": [
    {
     "data": {
      "text/plain": [
       "'/opt/kalyke/homedir/venv/incident-retrospectives-as-code/bin/rst2xml.py'"
      ]
     },
     "execution_count": 105,
     "metadata": {},
     "output_type": "execute_result"
    }
   ],
   "source": [
    "import subprocess\n",
    "import sys\n",
    "\n",
    "from xml.etree import ElementTree as ET\n",
    "\n",
    "import os\n",
    "import pathlib\n",
    "import datetime\n",
    "\n",
    "rst2xml = os.fspath(pathlib.Path(sys.executable).parent / \"rst2xml.py\")\n",
    "rst2xml"
   ]
  },
  {
   "cell_type": "markdown",
   "metadata": {
    "tags": []
   },
   "source": [
    "```{=latex}\n",
    "\\begin{frame}[fragile]\n",
    "\\frametitle{Example Lint}\n",
    "```"
   ]
  },
  {
   "cell_type": "code",
   "execution_count": 113,
   "metadata": {},
   "outputs": [],
   "source": [
    "def get_timestamps(input_text):\n",
    "    ..."
   ]
  },
  {
   "cell_type": "code",
   "execution_count": 114,
   "metadata": {
    "tags": [
     "no_markdown"
    ]
   },
   "outputs": [],
   "source": [
    "def get_timestamps(input_text):\n",
    "    ret = subprocess.run([rst2xml],\n",
    "    input=input_text,\n",
    "    capture_output=True,\n",
    "    text=True,\n",
    "    check=True)\n",
    "\n",
    "    result = ET.fromstring(ret.stdout)\n",
    "\n",
    "    elements = result.iter()\n",
    "    for elem in elements:\n",
    "        if elem.tag == \"subtitle\" and elem.text == \"Timeline\":\n",
    "            bullets = next(elements)\n",
    "            break\n",
    "\n",
    "    for item in bullets.findall(\"list_item\"):\n",
    "        _ignore, paragraph = item.iter()\n",
    "        timestamp = datetime.datetime.fromisoformat(paragraph.text.split(\" -- \")[0])\n",
    "        yield timestamp"
   ]
  },
  {
   "cell_type": "code",
   "execution_count": 116,
   "metadata": {},
   "outputs": [],
   "source": [
    "def check_order(timestamps):\n",
    "    timestamps = iter(timestamps)\n",
    "    last = next(timestamps)\n",
    "    for current in timestamps:\n",
    "        if current <= last:\n",
    "            raise ValueError(\n",
    "                \"got decreasing\",\n",
    "                last,\n",
    "                current,\n",
    "        )\n",
    "        last = current"
   ]
  },
  {
   "cell_type": "markdown",
   "metadata": {
    "tags": []
   },
   "source": [
    "```{=latex}\n",
    "\\end{frame}\n",
    "```"
   ]
  },
  {
   "cell_type": "markdown",
   "metadata": {
    "tags": []
   },
   "source": [
    "```{=latex}\n",
    "\\begin{frame}[fragile]\n",
    "\\frametitle{Example Lint Failure}\n",
    "```"
   ]
  },
  {
   "cell_type": "code",
   "execution_count": 120,
   "metadata": {
    "tags": [
     "no_markdown"
    ]
   },
   "outputs": [],
   "source": [
    "input_text=\"\"\"\\\n",
    "Thing\n",
    "-----\n",
    "\n",
    "Timeline\n",
    "========\n",
    "\n",
    "* 2022-01-02 19:12:33 -- do stuff\n",
    "* 2022-01-02 19:12:31 -- do stuff\n",
    "\"\"\""
   ]
  },
  {
   "cell_type": "code",
   "execution_count": 123,
   "metadata": {},
   "outputs": [
    {
     "name": "stdout",
     "output_type": "stream",
     "text": [
      "got decreasing\n",
      "2022-01-02 19:12:33\n",
      "2022-01-02 19:12:31\n"
     ]
    }
   ],
   "source": [
    "try:\n",
    "    check_order(get_timestamps(input))\n",
    "except Exception as exc:\n",
    "    for arg in exc.args:\n",
    "        print(arg)"
   ]
  },
  {
   "cell_type": "markdown",
   "metadata": {
    "tags": []
   },
   "source": [
    "```{=latex}\n",
    "\\end{frame}\n",
    "```"
   ]
  },
  {
   "cell_type": "markdown",
   "metadata": {},
   "source": [
    "## Analyzing Retrospectives Data"
   ]
  },
  {
   "cell_type": "markdown",
   "metadata": {
    "tags": []
   },
   "source": [
    "```{=latex}\n",
    "\\begin{frame}\n",
    "\\frametitle{Analyzing Retrospectives' Data}\n",
    "\n",
    "\\pause\n",
    "Input, not decisions\n",
    "\n",
    "\\pause\n",
    "Easier\n",
    "\n",
    "\\end{frame}\n",
    "```"
   ]
  },
  {
   "cell_type": "markdown",
   "metadata": {},
   "source": [
    "### Retrospective Process"
   ]
  },
  {
   "cell_type": "markdown",
   "metadata": {
    "tags": []
   },
   "source": [
    "```{=latex}\n",
    "\\begin{frame}\n",
    "\\frametitle{Retrospective Process}\n",
    "\n",
    "\\pause\n",
    "Theory: Incident, Research, Draft, Review, Approve, Implement\n",
    "\n",
    "\\pause\n",
    "Real life: Infinite variations\n",
    "\n",
    "\\end{frame}\n",
    "```"
   ]
  },
  {
   "cell_type": "markdown",
   "metadata": {},
   "source": [
    "### Iterating on Retrospective Process"
   ]
  },
  {
   "cell_type": "markdown",
   "metadata": {
    "tags": []
   },
   "source": [
    "```{=latex}\n",
    "\\begin{frame}\n",
    "\\frametitle{Iterating Retrospective Process}\n",
    "\n",
    "\\pause\n",
    "Is our variation good?\n",
    "\n",
    "\\end{frame}\n",
    "```"
   ]
  },
  {
   "cell_type": "markdown",
   "metadata": {},
   "source": [
    "### Example: Length of Recommendations"
   ]
  },
  {
   "cell_type": "code",
   "execution_count": 124,
   "metadata": {
    "tags": [
     "no_markdown"
    ]
   },
   "outputs": [],
   "source": [
    "input_text=\"\"\"\\\n",
    "Thing\n",
    "-----\n",
    "\n",
    "Recommendations\n",
    "===============\n",
    "\n",
    "* Do thing\n",
    "* Do other thing\n",
    "\"\"\""
   ]
  },
  {
   "cell_type": "markdown",
   "metadata": {
    "tags": []
   },
   "source": [
    "```{=latex}\n",
    "\\begin{frame}[fragile]\n",
    "\\frametitle{Number of Recommendations}\n",
    "```"
   ]
  },
  {
   "cell_type": "code",
   "execution_count": 131,
   "metadata": {},
   "outputs": [],
   "source": [
    "def find_section(input_text, name):\n",
    "    ..."
   ]
  },
  {
   "cell_type": "code",
   "execution_count": 133,
   "metadata": {
    "tags": [
     "no_markdown"
    ]
   },
   "outputs": [],
   "source": [
    "def find_section(input_text, name): \n",
    "    ret = subprocess.run([rst2xml],\n",
    "    input=input_text,\n",
    "    capture_output=True,\n",
    "    text=True,\n",
    "    check=True)\n",
    "\n",
    "    result = ET.fromstring(ret.stdout)\n",
    "\n",
    "    elements = result.iter()\n",
    "    for elem in elements:\n",
    "        if elem.tag == \"subtitle\" and elem.text == name:\n",
    "            section = next(elements)\n",
    "            break\n",
    "    return section"
   ]
  },
  {
   "cell_type": "code",
   "execution_count": 134,
   "metadata": {
    "tags": []
   },
   "outputs": [
    {
     "data": {
      "text/plain": [
       "2"
      ]
     },
     "execution_count": 134,
     "metadata": {},
     "output_type": "execute_result"
    }
   ],
   "source": [
    "def get_recommendations(input_text):\n",
    "    bullets = find_section(\n",
    "        input_text,\n",
    "        \"Recommendations\",\n",
    "    )\n",
    "    recommendations = bullets.findall(\"list_item\")\n",
    "    return len(recommendations)\n",
    "\n",
    "get_recommendations(input_text)"
   ]
  },
  {
   "cell_type": "markdown",
   "metadata": {
    "tags": []
   },
   "source": [
    "```{=latex}\n",
    "\\end{frame}\n",
    "```"
   ]
  },
  {
   "cell_type": "markdown",
   "metadata": {},
   "source": [
    "### Recommendations Done"
   ]
  },
  {
   "cell_type": "markdown",
   "metadata": {
    "tags": []
   },
   "source": [
    "```{=latex}\n",
    "\\begin{frame}[fragile]\n",
    "\\frametitle{Recommendation Done}\n",
    "\n",
    "\\pause\n",
    "Difficult to fit on slide\n",
    "\n",
    "\\pause\n",
    "Similar ideas + API to ticket system\n",
    "\n",
    "\n",
    "\\end{frame}\n",
    "```"
   ]
  },
  {
   "cell_type": "markdown",
   "metadata": {},
   "source": [
    "### Share Analysis"
   ]
  },
  {
   "cell_type": "markdown",
   "metadata": {
    "tags": []
   },
   "source": [
    "```{=latex}\n",
    "\\begin{frame}[fragile]\n",
    "\\frametitle{Share Analysis}\n",
    "\n",
    "\\pause\n",
    "One off: Distribute Notebook\n",
    "\n",
    "\\pause\n",
    "Repeated: Dashboards\n",
    "\n",
    "\\end{frame}\n",
    "```"
   ]
  },
  {
   "cell_type": "markdown",
   "metadata": {
    "tags": []
   },
   "source": [
    "## Getting Started"
   ]
  },
  {
   "cell_type": "markdown",
   "metadata": {
    "tags": []
   },
   "source": [
    "```{=latex}\n",
    "\\begin{frame}[fragile]\n",
    "\\frametitle{Getting Started}\n",
    "\n",
    "\\pause\n",
    "This is great.\n",
    "\n",
    "\\pause\n",
    "What's Next?\n",
    "\n",
    "\\end{frame}\n",
    "```"
   ]
  },
  {
   "cell_type": "markdown",
   "metadata": {},
   "source": [
    "### Light Markup Language"
   ]
  },
  {
   "cell_type": "markdown",
   "metadata": {
    "tags": []
   },
   "source": [
    "```{=latex}\n",
    "\\begin{frame}[fragile]\n",
    "\\frametitle{Light Markup Language}\n",
    "\n",
    "\\pause\n",
    "Choose\n",
    "\n",
    "\\pause\n",
    "Markdown\n",
    "\n",
    "\\pause\n",
    "(ReST, Asciidoc)\n",
    "\n",
    "\\end{frame}\n",
    "```"
   ]
  },
  {
   "cell_type": "markdown",
   "metadata": {},
   "source": [
    "### Template"
   ]
  },
  {
   "cell_type": "markdown",
   "metadata": {
    "tags": []
   },
   "source": [
    "```{=latex}\n",
    "\\begin{frame}[fragile]\n",
    "\\frametitle{Template}\n",
    "\n",
    "\\pause\n",
    "Validate that language works\n",
    "\\end{frame}\n",
    "```"
   ]
  },
  {
   "cell_type": "markdown",
   "metadata": {},
   "source": [
    "### Organization"
   ]
  },
  {
   "cell_type": "markdown",
   "metadata": {
    "tags": []
   },
   "source": [
    "```{=latex}\n",
    "\\begin{frame}[fragile]\n",
    "\\frametitle{Organization}\n",
    "\n",
    "\\pause\n",
    "Create directories\n",
    "\n",
    "\\end{frame}\n",
    "```"
   ]
  },
  {
   "cell_type": "markdown",
   "metadata": {},
   "source": [
    "### Repo"
   ]
  },
  {
   "cell_type": "markdown",
   "metadata": {
    "tags": []
   },
   "source": [
    "```{=latex}\n",
    "\\begin{frame}[fragile]\n",
    "\\frametitle{Repo}\n",
    "\n",
    "\\pause\n",
    "Create repo\n",
    "\n",
    "\\pause\n",
    "(Not trivial): Set access controls\n",
    "\n",
    "\\end{frame}\n",
    "```"
   ]
  },
  {
   "cell_type": "markdown",
   "metadata": {},
   "source": [
    "### Start Today!"
   ]
  },
  {
   "cell_type": "markdown",
   "metadata": {
    "tags": []
   },
   "source": [
    "```{=latex}\n",
    "\\begin{frame}[fragile]\n",
    "\\frametitle{Start!}\n",
    "\n",
    "That's all there is!\n",
    "\\end{frame}\n",
    "```"
   ]
  },
  {
   "cell_type": "markdown",
   "metadata": {},
   "source": [
    "```{=latex}\n",
    "\\end{document}\n",
    "```"
   ]
  }
 ],
 "metadata": {
  "kernelspec": {
   "display_name": "incident-retrospectives-as-code",
   "language": "python",
   "name": "incident-retrospectives-as-code-venv"
  },
  "language_info": {
   "codemirror_mode": {
    "name": "ipython",
    "version": 3
   },
   "file_extension": ".py",
   "mimetype": "text/x-python",
   "name": "python",
   "nbconvert_exporter": "python",
   "pygments_lexer": "ipython3",
   "version": "3.10.7"
  },
  "toc-autonumbering": false
 },
 "nbformat": 4,
 "nbformat_minor": 4
}
